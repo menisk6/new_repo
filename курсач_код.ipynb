{
 "cells": [
  {
   "cell_type": "code",
   "execution_count": 1,
   "metadata": {},
   "outputs": [],
   "source": [
    "import pandas as pd\n",
    "import numpy as np\n",
    "import matplotlib.pyplot as plt\n",
    "import seaborn as sns\n",
    "import json\n",
    "pd.options.mode.copy_on_write = True"
   ]
  },
  {
   "cell_type": "code",
   "execution_count": null,
   "metadata": {},
   "outputs": [],
   "source": [
    "data = pd.read_csv(r'C:\\Users\\Максим\\Desktop\\Курсовая\\fiscal_data_2020-10-11.csv\\fiscal_data_2020-10-11.csv',\n",
    "                   nrows=10000,\n",
    "                   on_bad_lines = 'skip',\n",
    "                   header=None)"
   ]
  },
  {
   "cell_type": "code",
   "execution_count": 3,
   "metadata": {},
   "outputs": [],
   "source": [
    "i = 0\n",
    "SET = set()\n",
    "with open(r'C:\\Users\\Максим\\Desktop\\Курсовая\\fiscal_data_2020-10-11.csv\\fiscal_data_2020-10-11.csv', encoding='UTF-8') as f:\n",
    "    for line in f:\n",
    "        # print(line, type(line))\n",
    "        # print(line[33:-34])\n",
    "        # js = json.load(line)\n",
    "        if i == 100:\n",
    "            break\n",
    "        # if i != 20000:\n",
    "        new_line = '{\"fd_id_external\": \"' + line[:32] + '\",\"json_external\":' + line[33:-33] + '\"kkt_id_external\":\"' + line[-33:-1] + '\"}'\n",
    "        # print(new_line)\n",
    "        js = json.loads(new_line)\n",
    "        # print(list(js['json_external'].keys()))\n",
    "        SET = SET.union(set(js['json_external'].keys()))\n",
    "            # try:\n",
    "            #     if js['json_external']['bsoCode'] == 4:\n",
    "            #         print(i, js['json_external']['bsoCode'])\n",
    "            #         break\n",
    "            # except:\n",
    "            #     # print(i)\n",
    "            #     pass\n",
    "            # break\n",
    "            # i += 1\n",
    "        # else: break\n",
    "        i += 1\n",
    "        # if i == 419:\n",
    "# print(json.dumps(js, indent=2))  \n",
    "        \n",
    "# SET"
   ]
  },
  {
   "cell_type": "code",
   "execution_count": 5,
   "metadata": {},
   "outputs": [
    {
     "data": {
      "text/plain": [
       "86"
      ]
     },
     "execution_count": 5,
     "metadata": {},
     "output_type": "execute_result"
    }
   ],
   "source": [
    " len(SET)"
   ]
  },
  {
   "cell_type": "code",
   "execution_count": 6,
   "metadata": {},
   "outputs": [],
   "source": [
    "values = SET\n",
    "\n",
    "with open(\"cols_names.txt\", \"w\") as output:\n",
    "    output.write(str(values))"
   ]
  },
  {
   "cell_type": "code",
   "execution_count": 2,
   "metadata": {},
   "outputs": [],
   "source": [
    "with open(\"cols_names.txt\", \"r\") as output:\n",
    "    data = output.read()\n",
    "\n",
    "cols = data[1:-1].replace(\"'\", \"\").split(', ')\n",
    "cols.remove('items')\n",
    "cols = set(cols)"
   ]
  },
  {
   "cell_type": "code",
   "execution_count": 81,
   "metadata": {},
   "outputs": [
    {
     "data": {
      "text/plain": [
       "{'bsoCode',\n",
       " 'cashTotalSum',\n",
       " 'code',\n",
       " 'counterSubmissionSum',\n",
       " 'creditSum',\n",
       " 'ecashTotalSum',\n",
       " 'fd_id_external',\n",
       " 'fiscalDocumentFormatVer',\n",
       " 'internetSign',\n",
       " 'kkt_id_external',\n",
       " 'nds0',\n",
       " 'nds10',\n",
       " 'nds10110',\n",
       " 'nds18',\n",
       " 'nds18118',\n",
       " 'nds20',\n",
       " 'ndsCalculated10',\n",
       " 'ndsCalculated18',\n",
       " 'ndsCalculated20',\n",
       " 'ndsNo',\n",
       " 'operationType',\n",
       " 'paymentAgentType',\n",
       " 'postpaymentSum',\n",
       " 'prepaidSum',\n",
       " 'prepaymentSum',\n",
       " 'protocolVersion',\n",
       " 'provisionSum',\n",
       " 'receiptCode',\n",
       " 'requestNumber',\n",
       " 'retailAddress',\n",
       " 'taxationType',\n",
       " 'totalSum'}"
      ]
     },
     "execution_count": 81,
     "metadata": {},
     "output_type": "execute_result"
    }
   ],
   "source": [
    "with open(\"filtered_columns.txt\", \"r\") as output:\n",
    "    data = output.read()\n",
    "\n",
    "cols = set(data.split('\\n'))\n",
    "cols.add('kkt_id_external')\n",
    "cols.add('fd_id_external')\n",
    "cols"
   ]
  },
  {
   "cell_type": "code",
   "execution_count": 58,
   "metadata": {},
   "outputs": [],
   "source": [
    "types = {\n",
    "    'bsoCode': 'int16',\n",
    "    'cashTotalSum': 'int32',\n",
    "    'code': 'int16',\n",
    "    'counterSubmissionSum': 'int32',\n",
    "    'creditSum': 'int32',\n",
    "    'ecashTotalSum': 'int32',\n",
    "    'fiscalDocumentFormatVer': 'int16',\n",
    "    'internetSign': 'int16',\n",
    "    'nds0': 'int32',\n",
    "    'nds10': 'int32',\n",
    "    'nds10110': 'int32',\n",
    "    'nds18': 'int32',\n",
    "    'nds18118': 'int32',\n",
    "    'nds20': 'int32',\n",
    "    'ndsCalculated10': 'int32',\n",
    "    'ndsCalculated18': 'int32',\n",
    "    'ndsCalculated20': 'int32',\n",
    "    'ndsNo': 'int32',\n",
    "    'operationType': 'int16',\n",
    "    'paymentAgentType': 'int16',\n",
    "    'postpaymentSum': 'int32',\n",
    "    'prepaidSum': 'int32',\n",
    "    'prepaymentSum': 'int32',\n",
    "    'protocolVersion': 'int16',\n",
    "    'provisionSum': 'int32',\n",
    "    'receiptCode': 'int16',\n",
    "    'requestNumber': 'int32',\n",
    "    'retailAddress': 'string',\n",
    "    'taxationType': 'int16',\n",
    "    'totalSum': 'int32'\n",
    "}"
   ]
  },
  {
   "cell_type": "code",
   "execution_count": 24,
   "metadata": {},
   "outputs": [],
   "source": [
    "# data_with_columns = pd.DataFrame(columns=sorted(cols))\n",
    "data_with_columns = pd.DataFrame(columns=sorted(cols))\n",
    "# data_with_columns = data_with_columns.astype({\"totalSum\": float, \"taxationType\": int})\n",
    "# data_with_columns"
   ]
  },
  {
   "cell_type": "code",
   "execution_count": null,
   "metadata": {},
   "outputs": [],
   "source": [
    "i = 0\n",
    "with open(r'C:\\Users\\Максим\\Desktop\\Курсовая\\fiscal_data_2020-10-11.csv\\fiscal_data_2020-10-11.csv', encoding='UTF-8') as f:\n",
    "    for line in f:\n",
    "        print(i)\n",
    "        new_line = '{\"fd_id_external\": \"' + line[:32] + '\",\"json_external\":' + line[33:-33] + '\"kkt_id_external\":\"' + line[-33:-1] + '\"}'\n",
    "        js = json.loads(new_line)\n",
    "        for key in js['json_external'].keys():\n",
    "            data_with_columns.loc[i, key] = js['json_external'][key]\n",
    "        i += 1"
   ]
  },
  {
   "cell_type": "code",
   "execution_count": 64,
   "metadata": {},
   "outputs": [
    {
     "name": "stderr",
     "output_type": "stream",
     "text": [
      "C:\\Users\\Максим\\AppData\\Local\\Temp\\ipykernel_20228\\3290065670.py:7: ParserWarning: Falling back to the 'python' engine because the separator encoded in utf-8 is > 1 char long, and the 'c' engine does not support such separators; you can avoid this warning by specifying engine='python'.\n",
      "  dt_data = pd.read_csv(r'C:\\Users\\Максим\\Desktop\\Курсовая\\fiscal_data_2020-10-11.csv\\fiscal_data_2020-10-11.csv',\n"
     ]
    }
   ],
   "source": [
    "import pandas as pd\n",
    "import json\n",
    "def func(s):\n",
    "    js = json.loads(s)\n",
    "    return js\n",
    "\n",
    "dt_data = pd.read_csv(r'C:\\Users\\Максим\\Desktop\\Курсовая\\fiscal_data_2020-10-11.csv\\fiscal_data_2020-10-11.csv', \n",
    "                      encoding='UTF-8', nrows = 1000, sep='☏', header=None)\n",
    "dt_data['1'] = dt_data[0].apply(lambda s: '{\"fd_id_external\": \"' + s[:32] + '\",\"json_external\":' + s[33:-33] + ',\"kkt_id_external\":\"' + s[-33:-1] + '\"}')"
   ]
  },
  {
   "cell_type": "code",
   "execution_count": 66,
   "metadata": {},
   "outputs": [
    {
     "data": {
      "text/plain": [
       "0      {'fd_id_external': 'e35d7164ee96e9aaf68b73c96f...\n",
       "1      {'fd_id_external': 'e35d7164ee96e9aaf68b73c96f...\n",
       "2      {'fd_id_external': 'e35d7164ee96e9aaf68b73c96f...\n",
       "3      {'fd_id_external': 'e35d7164ee96e9aaf68b73c96f...\n",
       "4      {'fd_id_external': 'e35d7164ee96e9aaf68b73c96f...\n",
       "                             ...                        \n",
       "995    {'fd_id_external': 'd5f2d6ed3ee4568229ecc8d7b3...\n",
       "996    {'fd_id_external': 'd5f2d6ed3ee4568229ecc8d7b3...\n",
       "997    {'fd_id_external': 'd5f2d6ed3ee4568229ecc8d7b3...\n",
       "998    {'fd_id_external': 'c59d4de1192827750715ad5edb...\n",
       "999    {'fd_id_external': 'c59d4de1192827750715ad5edb...\n",
       "Name: 1, Length: 1000, dtype: object"
      ]
     },
     "execution_count": 66,
     "metadata": {},
     "output_type": "execute_result"
    }
   ],
   "source": [
    "dt_data['1'].apply(lambda x: func(x))"
   ]
  },
  {
   "cell_type": "code",
   "execution_count": 110,
   "metadata": {},
   "outputs": [
    {
     "name": "stderr",
     "output_type": "stream",
     "text": [
      "C:\\Users\\Максим\\AppData\\Local\\Temp\\ipykernel_20228\\83861478.py:5: ParserWarning: Falling back to the 'python' engine because the separator encoded in utf-8 is > 1 char long, and the 'c' engine does not support such separators; you can avoid this warning by specifying engine='python'.\n",
      "  dt_data = pd.read_csv(r'C:\\Users\\Максим\\Desktop\\Курсовая\\fiscal_data_2020-10-11.csv\\fiscal_data_2020-10-11.csv',\n"
     ]
    }
   ],
   "source": [
    "import pandas as pd\n",
    "import json\n",
    "\n",
    "\n",
    "dt_data = pd.read_csv(r'C:\\Users\\Максим\\Desktop\\Курсовая\\fiscal_data_2020-10-11.csv\\fiscal_data_2020-10-11.csv', \n",
    "                      encoding='UTF-8', nrows = 100000, sep='☏', header=None, chunksize=10000)\n",
    "for x in dt_data:\n",
    "    new_data = pd.DataFrame(index=range(10000), columns=sorted(cols))\n",
    "    i = 0\n",
    "    for line in x[0]:\n",
    "        new_line = '{\"fd_id_external\": \"' + line[:32] + '\",\"json_external\":' + line[33:-33] + ',\"kkt_id_external\":\"' + line[-33:-1] + '\"}'\n",
    "        js = json.loads(new_line)\n",
    "\n",
    "        new_data.loc[i, \"fd_id_external\"] = js[\"fd_id_external\"]\n",
    "        new_data.loc[i, \"kkt_id_external\"] = js[\"kkt_id_external\"]\n",
    "        for key in set(js['json_external'].keys()) & cols:\n",
    "            new_data.loc[i, key] = js['json_external'][key]\n",
    "        i += 1"
   ]
  },
  {
   "cell_type": "code",
   "execution_count": 104,
   "metadata": {},
   "outputs": [
    {
     "name": "stdout",
     "output_type": "stream",
     "text": [
      "0\n",
      "{\"fd_id_external\": \"e35d7164ee96e9aaf68b73c96fcb5bdc\",\"json_external\":{\"receiptCode\":3,\"fiscalDocumentNumber\":11278,\"dateTime\":\"2020-10-11\",\"shiftNumber\":35,\"requestNumber\":48,\"operationType\":1,\"totalSum\":9215,\"items\":[{\"name\":\"Продажа на сумму\",\"price\":9215,\"quantity\":1,\"sum\":9215}],\"cashTotalSum\":9215,\"ecashTotalSum\":0,\"ndsNo\":9215,\"retailAddress\":\"652888, Кемеровская область, г. Междуреченск, ул. Октябрьская, д. 3А\",\"taxationType\":8},\"kkt_id_external\":\"137f0b74c99ad372af7022794574d8e4\"}\n"
     ]
    }
   ],
   "source": [
    "i = 0\n",
    "c_error = 0\n",
    "with open(r'C:\\Users\\Максим\\Desktop\\Курсовая\\fiscal_data_2020-10-11.csv\\fiscal_data_2020-10-11.csv', encoding='UTF-8') as f:\n",
    "    for line in f:\n",
    "        # if i % 10000 == 0:\n",
    "        print(i)\n",
    "        if i == 10000:\n",
    "            break\n",
    "        new_line = '{\"fd_id_external\": \"' + line[:32] + '\",\"json_external\":' + line[33:-33] + '\"kkt_id_external\":\"' + line[-33:-1] + '\"}'\n",
    "        print(new_line)\n",
    "        break\n",
    "        # js = json.loads(new_line)\n",
    "        # # print({\"fd_id_external\": js[\"fd_id_external\"], \n",
    "        # #        \"kkt_id_external\": js[\"kkt_id_external\"],\n",
    "        # #        **js['json_external']})\n",
    "        # # data_with_columns.append({\"fd_id_external\": js[\"fd_id_external\"], \n",
    "        # #                             \"kkt_id_external\": js[\"kkt_id_external\"],\n",
    "        # #                             **js['json_external']})\n",
    "        # # break\n",
    "        # data_with_columns.loc[i, \"fd_id_external\"] = js[\"fd_id_external\"]\n",
    "        # data_with_columns.loc[i, \"kkt_id_external\"] = js[\"kkt_id_external\"]\n",
    "        # for key in set(js['json_external'].keys()) & cols:\n",
    "        #     data_with_columns.loc[i, key] = js['json_external'][key]\n",
    "        # i += 1"
   ]
  },
  {
   "cell_type": "code",
   "execution_count": 26,
   "metadata": {},
   "outputs": [
    {
     "data": {
      "text/html": [
       "<div>\n",
       "<style scoped>\n",
       "    .dataframe tbody tr th:only-of-type {\n",
       "        vertical-align: middle;\n",
       "    }\n",
       "\n",
       "    .dataframe tbody tr th {\n",
       "        vertical-align: top;\n",
       "    }\n",
       "\n",
       "    .dataframe thead th {\n",
       "        text-align: right;\n",
       "    }\n",
       "</style>\n",
       "<table border=\"1\" class=\"dataframe\">\n",
       "  <thead>\n",
       "    <tr style=\"text-align: right;\">\n",
       "      <th></th>\n",
       "      <th>fd_id_external</th>\n",
       "      <th>kkt_id_external</th>\n",
       "      <th>receiptCode</th>\n",
       "      <th>fiscalDocumentNumber</th>\n",
       "      <th>dateTime</th>\n",
       "      <th>shiftNumber</th>\n",
       "      <th>requestNumber</th>\n",
       "      <th>operationType</th>\n",
       "      <th>totalSum</th>\n",
       "      <th>items</th>\n",
       "      <th>cashTotalSum</th>\n",
       "      <th>ecashTotalSum</th>\n",
       "      <th>ndsNo</th>\n",
       "      <th>retailAddress</th>\n",
       "      <th>taxationType</th>\n",
       "    </tr>\n",
       "  </thead>\n",
       "  <tbody>\n",
       "    <tr>\n",
       "      <th>0</th>\n",
       "      <td>e35d7164ee96e9aaf68b73c96fcb5bdc</td>\n",
       "      <td>137f0b74c99ad372af7022794574d8e4</td>\n",
       "      <td>3</td>\n",
       "      <td>11278</td>\n",
       "      <td>2020-10-11</td>\n",
       "      <td>35</td>\n",
       "      <td>48</td>\n",
       "      <td>1</td>\n",
       "      <td>9215</td>\n",
       "      <td>{'name': 'Продажа на сумму', 'price': 9215, 'q...</td>\n",
       "      <td>9215</td>\n",
       "      <td>0</td>\n",
       "      <td>9215</td>\n",
       "      <td>652888, Кемеровская область, г. Междуреченск, ...</td>\n",
       "      <td>8</td>\n",
       "    </tr>\n",
       "  </tbody>\n",
       "</table>\n",
       "</div>"
      ],
      "text/plain": [
       "                     fd_id_external                   kkt_id_external  \\\n",
       "0  e35d7164ee96e9aaf68b73c96fcb5bdc  137f0b74c99ad372af7022794574d8e4   \n",
       "\n",
       "   receiptCode  fiscalDocumentNumber    dateTime  shiftNumber  requestNumber  \\\n",
       "0            3                 11278  2020-10-11           35             48   \n",
       "\n",
       "   operationType  totalSum                                              items  \\\n",
       "0              1      9215  {'name': 'Продажа на сумму', 'price': 9215, 'q...   \n",
       "\n",
       "   cashTotalSum  ecashTotalSum  ndsNo  \\\n",
       "0          9215              0   9215   \n",
       "\n",
       "                                       retailAddress  taxationType  \n",
       "0  652888, Кемеровская область, г. Междуреченск, ...             8  "
      ]
     },
     "execution_count": 26,
     "metadata": {},
     "output_type": "execute_result"
    }
   ],
   "source": [
    "pd.DataFrame({\"fd_id_external\": js[\"fd_id_external\"], \n",
    "                                    \"kkt_id_external\": js[\"kkt_id_external\"],\n",
    "                                    **js['json_external']})"
   ]
  },
  {
   "cell_type": "code",
   "execution_count": 27,
   "metadata": {},
   "outputs": [
    {
     "ename": "ValueError",
     "evalue": "Only can inner (intersect) or outer (union) join the other axis",
     "output_type": "error",
     "traceback": [
      "\u001b[1;31m---------------------------------------------------------------------------\u001b[0m",
      "\u001b[1;31mValueError\u001b[0m                                Traceback (most recent call last)",
      "Cell \u001b[1;32mIn[27], line 1\u001b[0m\n\u001b[1;32m----> 1\u001b[0m \u001b[43mpd\u001b[49m\u001b[38;5;241;43m.\u001b[39;49m\u001b[43mconcat\u001b[49m\u001b[43m(\u001b[49m\u001b[43m[\u001b[49m\u001b[43mdata_with_columns\u001b[49m\u001b[43m,\u001b[49m\u001b[43m \u001b[49m\u001b[43mpd\u001b[49m\u001b[38;5;241;43m.\u001b[39;49m\u001b[43mDataFrame\u001b[49m\u001b[43m(\u001b[49m\u001b[43m{\u001b[49m\u001b[38;5;124;43m\"\u001b[39;49m\u001b[38;5;124;43mfd_id_external\u001b[39;49m\u001b[38;5;124;43m\"\u001b[39;49m\u001b[43m:\u001b[49m\u001b[43m \u001b[49m\u001b[43mjs\u001b[49m\u001b[43m[\u001b[49m\u001b[38;5;124;43m\"\u001b[39;49m\u001b[38;5;124;43mfd_id_external\u001b[39;49m\u001b[38;5;124;43m\"\u001b[39;49m\u001b[43m]\u001b[49m\u001b[43m,\u001b[49m\u001b[43m \u001b[49m\n\u001b[0;32m      2\u001b[0m \u001b[43m                                    \u001b[49m\u001b[38;5;124;43m\"\u001b[39;49m\u001b[38;5;124;43mkkt_id_external\u001b[39;49m\u001b[38;5;124;43m\"\u001b[39;49m\u001b[43m:\u001b[49m\u001b[43m \u001b[49m\u001b[43mjs\u001b[49m\u001b[43m[\u001b[49m\u001b[38;5;124;43m\"\u001b[39;49m\u001b[38;5;124;43mkkt_id_external\u001b[39;49m\u001b[38;5;124;43m\"\u001b[39;49m\u001b[43m]\u001b[49m\u001b[43m,\u001b[49m\n\u001b[0;32m      3\u001b[0m \u001b[43m                                    \u001b[49m\u001b[38;5;241;43m*\u001b[39;49m\u001b[38;5;241;43m*\u001b[39;49m\u001b[43mjs\u001b[49m\u001b[43m[\u001b[49m\u001b[38;5;124;43m'\u001b[39;49m\u001b[38;5;124;43mjson_external\u001b[39;49m\u001b[38;5;124;43m'\u001b[39;49m\u001b[43m]\u001b[49m\u001b[43m}\u001b[49m\u001b[43m)\u001b[49m\u001b[43m]\u001b[49m\u001b[43m,\u001b[49m\u001b[43m \u001b[49m\u001b[43maxis\u001b[49m\u001b[38;5;241;43m=\u001b[39;49m\u001b[38;5;241;43m1\u001b[39;49m\u001b[43m,\u001b[49m\u001b[43m \u001b[49m\u001b[43mjoin\u001b[49m\u001b[38;5;241;43m=\u001b[39;49m\u001b[38;5;124;43m'\u001b[39;49m\u001b[38;5;124;43mleft\u001b[39;49m\u001b[38;5;124;43m'\u001b[39;49m\u001b[43m)\u001b[49m\n",
      "File \u001b[1;32mc:\\Users\\Максим\\Desktop\\python\\lib\\site-packages\\pandas\\core\\reshape\\concat.py:380\u001b[0m, in \u001b[0;36mconcat\u001b[1;34m(objs, axis, join, ignore_index, keys, levels, names, verify_integrity, sort, copy)\u001b[0m\n\u001b[0;32m    377\u001b[0m \u001b[38;5;28;01melif\u001b[39;00m copy \u001b[38;5;129;01mand\u001b[39;00m using_copy_on_write():\n\u001b[0;32m    378\u001b[0m     copy \u001b[38;5;241m=\u001b[39m \u001b[38;5;28;01mFalse\u001b[39;00m\n\u001b[1;32m--> 380\u001b[0m op \u001b[38;5;241m=\u001b[39m \u001b[43m_Concatenator\u001b[49m\u001b[43m(\u001b[49m\n\u001b[0;32m    381\u001b[0m \u001b[43m    \u001b[49m\u001b[43mobjs\u001b[49m\u001b[43m,\u001b[49m\n\u001b[0;32m    382\u001b[0m \u001b[43m    \u001b[49m\u001b[43maxis\u001b[49m\u001b[38;5;241;43m=\u001b[39;49m\u001b[43maxis\u001b[49m\u001b[43m,\u001b[49m\n\u001b[0;32m    383\u001b[0m \u001b[43m    \u001b[49m\u001b[43mignore_index\u001b[49m\u001b[38;5;241;43m=\u001b[39;49m\u001b[43mignore_index\u001b[49m\u001b[43m,\u001b[49m\n\u001b[0;32m    384\u001b[0m \u001b[43m    \u001b[49m\u001b[43mjoin\u001b[49m\u001b[38;5;241;43m=\u001b[39;49m\u001b[43mjoin\u001b[49m\u001b[43m,\u001b[49m\n\u001b[0;32m    385\u001b[0m \u001b[43m    \u001b[49m\u001b[43mkeys\u001b[49m\u001b[38;5;241;43m=\u001b[39;49m\u001b[43mkeys\u001b[49m\u001b[43m,\u001b[49m\n\u001b[0;32m    386\u001b[0m \u001b[43m    \u001b[49m\u001b[43mlevels\u001b[49m\u001b[38;5;241;43m=\u001b[39;49m\u001b[43mlevels\u001b[49m\u001b[43m,\u001b[49m\n\u001b[0;32m    387\u001b[0m \u001b[43m    \u001b[49m\u001b[43mnames\u001b[49m\u001b[38;5;241;43m=\u001b[39;49m\u001b[43mnames\u001b[49m\u001b[43m,\u001b[49m\n\u001b[0;32m    388\u001b[0m \u001b[43m    \u001b[49m\u001b[43mverify_integrity\u001b[49m\u001b[38;5;241;43m=\u001b[39;49m\u001b[43mverify_integrity\u001b[49m\u001b[43m,\u001b[49m\n\u001b[0;32m    389\u001b[0m \u001b[43m    \u001b[49m\u001b[43mcopy\u001b[49m\u001b[38;5;241;43m=\u001b[39;49m\u001b[43mcopy\u001b[49m\u001b[43m,\u001b[49m\n\u001b[0;32m    390\u001b[0m \u001b[43m    \u001b[49m\u001b[43msort\u001b[49m\u001b[38;5;241;43m=\u001b[39;49m\u001b[43msort\u001b[49m\u001b[43m,\u001b[49m\n\u001b[0;32m    391\u001b[0m \u001b[43m\u001b[49m\u001b[43m)\u001b[49m\n\u001b[0;32m    393\u001b[0m \u001b[38;5;28;01mreturn\u001b[39;00m op\u001b[38;5;241m.\u001b[39mget_result()\n",
      "File \u001b[1;32mc:\\Users\\Максим\\Desktop\\python\\lib\\site-packages\\pandas\\core\\reshape\\concat.py:427\u001b[0m, in \u001b[0;36m_Concatenator.__init__\u001b[1;34m(self, objs, axis, join, keys, levels, names, ignore_index, verify_integrity, copy, sort)\u001b[0m\n\u001b[0;32m    425\u001b[0m     \u001b[38;5;28mself\u001b[39m\u001b[38;5;241m.\u001b[39mintersect \u001b[38;5;241m=\u001b[39m \u001b[38;5;28;01mTrue\u001b[39;00m\n\u001b[0;32m    426\u001b[0m \u001b[38;5;28;01melse\u001b[39;00m:  \u001b[38;5;66;03m# pragma: no cover\u001b[39;00m\n\u001b[1;32m--> 427\u001b[0m     \u001b[38;5;28;01mraise\u001b[39;00m \u001b[38;5;167;01mValueError\u001b[39;00m(\n\u001b[0;32m    428\u001b[0m         \u001b[38;5;124m\"\u001b[39m\u001b[38;5;124mOnly can inner (intersect) or outer (union) join the other axis\u001b[39m\u001b[38;5;124m\"\u001b[39m\n\u001b[0;32m    429\u001b[0m     )\n\u001b[0;32m    431\u001b[0m \u001b[38;5;28;01mif\u001b[39;00m \u001b[38;5;129;01mnot\u001b[39;00m is_bool(sort):\n\u001b[0;32m    432\u001b[0m     \u001b[38;5;28;01mraise\u001b[39;00m \u001b[38;5;167;01mValueError\u001b[39;00m(\n\u001b[0;32m    433\u001b[0m         \u001b[38;5;124mf\u001b[39m\u001b[38;5;124m\"\u001b[39m\u001b[38;5;124mThe \u001b[39m\u001b[38;5;124m'\u001b[39m\u001b[38;5;124msort\u001b[39m\u001b[38;5;124m'\u001b[39m\u001b[38;5;124m keyword only accepts boolean values; \u001b[39m\u001b[38;5;132;01m{\u001b[39;00msort\u001b[38;5;132;01m}\u001b[39;00m\u001b[38;5;124m was passed.\u001b[39m\u001b[38;5;124m\"\u001b[39m\n\u001b[0;32m    434\u001b[0m     )\n",
      "\u001b[1;31mValueError\u001b[0m: Only can inner (intersect) or outer (union) join the other axis"
     ]
    }
   ],
   "source": [
    "pd.concat([data_with_columns, pd.DataFrame({\"fd_id_external\": js[\"fd_id_external\"], \n",
    "                                    \"kkt_id_external\": js[\"kkt_id_external\"],\n",
    "                                    **js['json_external']})], axis=1, join='left')"
   ]
  },
  {
   "cell_type": "code",
   "execution_count": 18,
   "metadata": {},
   "outputs": [
    {
     "name": "stdout",
     "output_type": "stream",
     "text": [
      "<class 'pandas.core.frame.DataFrame'>\n",
      "RangeIndex: 100001 entries, 0 to 100000\n",
      "Data columns (total 32 columns):\n",
      " #   Column                   Non-Null Count   Dtype \n",
      "---  ------                   --------------   ----- \n",
      " 0   bsoCode                  108 non-null     object\n",
      " 1   cashTotalSum             99950 non-null   object\n",
      " 2   code                     2795 non-null    object\n",
      " 3   counterSubmissionSum     9922 non-null    object\n",
      " 4   creditSum                19535 non-null   object\n",
      " 5   ecashTotalSum            99940 non-null   object\n",
      " 6   fd_id_external           100000 non-null  object\n",
      " 7   fiscalDocumentFormatVer  19529 non-null   object\n",
      " 8   internetSign             3238 non-null    object\n",
      " 9   kkt_id_external          100000 non-null  object\n",
      " 10  nds0                     2820 non-null    object\n",
      " 11  nds10                    26233 non-null   object\n",
      " 12  nds10110                 63 non-null      object\n",
      " 13  nds18                    20038 non-null   object\n",
      " 14  nds18118                 131 non-null     object\n",
      " 15  nds20                    10333 non-null   object\n",
      " 16  ndsCalculated10          1124 non-null    object\n",
      " 17  ndsCalculated18          1545 non-null    object\n",
      " 18  ndsCalculated20          0 non-null       object\n",
      " 19  ndsNo                    58720 non-null   object\n",
      " 20  operationType            100000 non-null  object\n",
      " 21  paymentAgentType         2859 non-null    object\n",
      " 22  postpaymentSum           9922 non-null    object\n",
      " 23  prepaidSum               19535 non-null   object\n",
      " 24  prepaymentSum            9922 non-null    object\n",
      " 25  protocolVersion          9858 non-null    object\n",
      " 26  provisionSum             19535 non-null   object\n",
      " 27  receiptCode              97097 non-null   object\n",
      " 28  requestNumber            100000 non-null  object\n",
      " 29  retailAddress            6149 non-null    object\n",
      " 30  taxationType             100000 non-null  object\n",
      " 31  totalSum                 99990 non-null   object\n",
      "dtypes: object(32)\n",
      "memory usage: 24.4+ MB\n"
     ]
    }
   ],
   "source": [
    "data_with_columns.info()"
   ]
  },
  {
   "cell_type": "code",
   "execution_count": 19,
   "metadata": {},
   "outputs": [
    {
     "data": {
      "text/plain": [
       "<Axes: >"
      ]
     },
     "execution_count": 19,
     "metadata": {},
     "output_type": "execute_result"
    },
    {
     "data": {
      "image/png": "[encoded data removed]",
      "text/plain": [
       "<Figure size 600x1000 with 1 Axes>"
      ]
     },
     "metadata": {},
     "output_type": "display_data"
    }
   ],
   "source": [
    "plt.figure(figsize=(6, 10))\n",
    "sns.heatmap(data_with_columns[['bsoCode', 'code', 'receiptCode']].isnull(), yticklabels=False, cbar=False)"
   ]
  },
  {
   "cell_type": "code",
   "execution_count": 20,
   "metadata": {},
   "outputs": [
    {
     "name": "stderr",
     "output_type": "stream",
     "text": [
      "C:\\Users\\Максим\\AppData\\Local\\Temp\\ipykernel_6508\\829266656.py:2: FutureWarning: Setting an item of incompatible dtype is deprecated and will raise in a future error of pandas. Value '[4 4 4 4 4 4 4 4 4 4 4 4 4 4 4 4 4 4 4 4 4 4 4 4 4 4 4 4 4 4 4 4 4 4 4 4 4\n",
      " 4 4 4 4 4 4 4 4 4 4 4 4 4 4 4 4 4 4 4 4 4 4 4 4 4 4 4 4 4 4 4 4 4 4 4 4 4\n",
      " 4 4 4 4 4 4 4 4 4 4 4 4 4 4 4 4 4 4 4 4 4 4 4 4 4 4 4 4 4 4 4 4 4 4 nan]' has dtype incompatible with float64, please explicitly cast to a compatible dtype first.\n",
      "  data_with_columns['receiptCode'].fillna(data_with_columns['bsoCode'], inplace=True)\n"
     ]
    }
   ],
   "source": [
    "data_with_columns['receiptCode'].fillna(data_with_columns['code'].replace(3, 31), inplace=True)\n",
    "data_with_columns['receiptCode'].fillna(data_with_columns['bsoCode'], inplace=True)"
   ]
  },
  {
   "cell_type": "code",
   "execution_count": 21,
   "metadata": {},
   "outputs": [
    {
     "data": {
      "text/plain": [
       "<Axes: >"
      ]
     },
     "execution_count": 21,
     "metadata": {},
     "output_type": "execute_result"
    },
    {
     "data": {
      "image/png": "[encoded data removed]",
      "text/plain": [
       "<Figure size 600x1000 with 1 Axes>"
      ]
     },
     "metadata": {},
     "output_type": "display_data"
    }
   ],
   "source": [
    "plt.figure(figsize=(6, 10))\n",
    "sns.heatmap(data_with_columns[['bsoCode', 'code', 'receiptCode']].isnull(), yticklabels=False, cbar=False)"
   ]
  },
  {
   "cell_type": "code",
   "execution_count": 22,
   "metadata": {},
   "outputs": [
    {
     "data": {
      "text/plain": [
       "receiptCode\n",
       "3.0     97097\n",
       "31.0     2795\n",
       "4.0       108\n",
       "Name: count, dtype: int64"
      ]
     },
     "execution_count": 22,
     "metadata": {},
     "output_type": "execute_result"
    }
   ],
   "source": [
    "data_with_columns['receiptCode'].value_counts()"
   ]
  },
  {
   "cell_type": "code",
   "execution_count": 101,
   "metadata": {},
   "outputs": [],
   "source": [
    "data_with_columns.drop(['code', 'bsoCode'], axis=1, inplace=True)"
   ]
  },
  {
   "cell_type": "code",
   "execution_count": 23,
   "metadata": {},
   "outputs": [
    {
     "data": {
      "text/plain": [
       "<Axes: xlabel='totalSum', ylabel='Count'>"
      ]
     },
     "execution_count": 23,
     "metadata": {},
     "output_type": "execute_result"
    },
    {
     "data": {
      "image/png": "[encoded data removed]",
      "text/plain": [
       "<Figure size 640x480 with 1 Axes>"
      ]
     },
     "metadata": {},
     "output_type": "display_data"
    }
   ],
   "source": [
    "sns.histplot(data_with_columns['totalSum'], bins=50, log_scale=True)"
   ]
  },
  {
   "cell_type": "code",
   "execution_count": 24,
   "metadata": {},
   "outputs": [],
   "source": [
    "data_with_columns.loc[data_with_columns['cashTotalSum'].isna(), 'cashTotalSum'] = 0\n",
    "data_with_columns.loc[data_with_columns['ecashTotalSum'].isna(), 'ecashTotalSum'] = 0"
   ]
  },
  {
   "cell_type": "code",
   "execution_count": 25,
   "metadata": {},
   "outputs": [
    {
     "data": {
      "text/plain": [
       "retailAddress\n",
       "430031,г. Саранск ул.Косарева, д. 74, п.1                                    95\n",
       "61 - Ростовская область, 344002, Ростов-на-Дону г, Большая Садовая ул, 45    80\n",
       "385018, Республика Адыгея, г. Майкоп, ул. Димитрова, 21 А                    67\n",
       "396072,Воронежская обл., г.Нововоронеж, ул.Космонавтов, д.43Б                63\n",
       "308009,г. Белгород бул. Народный, 80б                                        61\n",
       "                                                                             ..\n",
       "Барнаул ул.Малахова 62                                                        1\n",
       "216400, Смоленская область, г. Десногорск,  Центральная часть города          1\n",
       "63-Самарская область, г Самара, ул Победы, 121                                1\n",
       "  рп. Селятино, ул. Теннисная, д. 47/1                                        1\n",
       "197373, г.Санкт-Петербург, ул.Долгоозерная, д.12, к.2, пом.2Н                 1\n",
       "Name: count, Length: 553, dtype: int64"
      ]
     },
     "execution_count": 25,
     "metadata": {},
     "output_type": "execute_result"
    }
   ],
   "source": [
    "data_with_columns['retailAddress'].value_counts()"
   ]
  },
  {
   "cell_type": "code",
   "execution_count": 26,
   "metadata": {},
   "outputs": [
    {
     "data": {
      "text/plain": [
       "(30698.51236487635, 48477.774962250376)"
      ]
     },
     "execution_count": 26,
     "metadata": {},
     "output_type": "execute_result"
    }
   ],
   "source": [
    "# средний чек больше при оплате электронно\n",
    "data_with_columns['cashTotalSum'].mean(), data_with_columns['ecashTotalSum'].mean()"
   ]
  },
  {
   "cell_type": "code",
   "execution_count": 27,
   "metadata": {},
   "outputs": [
    {
     "data": {
      "text/plain": [
       "retailAddress\n",
       "190031, г. Санкт-Петербург,  ул. Ефимова, д. 3, лит. С, пом. 7-Н, ком. №№ 152, 511, 512, 3  эт (ТК Сенная)    3610000.0\n",
       "606030, Нижегородская область, г. Дзержинск, Игумновское шоссе, 7г                                            2649900.0\n",
       "63-Самарская область, г Самара, ул Победы, 121                                                                2504000.0\n",
       "196135, г. Cанкт-Петербург ул. Типанова, д. 21, лит. А, ТК  Питер , ч.п. 1Н, пом. 377, 2 эт                   1857000.0\n",
       "******************** 634009. г. Томск, пр-т Ленина д. 121.                                                    1598000.0\n",
       "                                                                                                                ...    \n",
       "606800, г Урень, Уренский р-н, ул Брагина, 18А                                                                   5500.0\n",
       "г. Тула, пр. Ленина 85, к.8                                                                                      5000.0\n",
       "394006,г.Воронеж,ул.20 лет Октября,д.90                                                                          5000.0\n",
       "25-Приморский край, г Уссурийск, ул Владивостокское шоссе, 107а                                                  5000.0\n",
       "662156, Красноярский край, м.р-н Ачинский, с. Большая Салырь, ул. Ворошилова, д. 86А                             1400.0\n",
       "Name: totalSum, Length: 553, dtype: object"
      ]
     },
     "execution_count": 27,
     "metadata": {},
     "output_type": "execute_result"
    }
   ],
   "source": [
    "# рейтинг самые большие средние чеки\n",
    "(data_with_columns.groupby('retailAddress')['totalSum'].sum() / data_with_columns.groupby('retailAddress')['totalSum'].size()).sort_values(ascending=False)"
   ]
  },
  {
   "cell_type": "code",
   "execution_count": 28,
   "metadata": {},
   "outputs": [
    {
     "data": {
      "text/plain": [
       "counterSubmissionSum\n",
       "0        9920\n",
       "12600       1\n",
       "19600       1\n",
       "Name: count, dtype: int64"
      ]
     },
     "execution_count": 28,
     "metadata": {},
     "output_type": "execute_result"
    }
   ],
   "source": [
    "data_with_columns['counterSubmissionSum'].value_counts()"
   ]
  },
  {
   "cell_type": "code",
   "execution_count": 29,
   "metadata": {},
   "outputs": [
    {
     "data": {
      "text/plain": [
       "<Axes: >"
      ]
     },
     "execution_count": 29,
     "metadata": {},
     "output_type": "execute_result"
    },
    {
     "data": {
      "image/png": "[encoded data removed]",
      "text/plain": [
       "<Figure size 2000x1000 with 1 Axes>"
      ]
     },
     "metadata": {},
     "output_type": "display_data"
    }
   ],
   "source": [
    "plt.figure(figsize=(20, 10))\n",
    "sns.heatmap(data_with_columns.isnull(), yticklabels=False, cbar=False)"
   ]
  },
  {
   "cell_type": "code",
   "execution_count": 51,
   "metadata": {},
   "outputs": [],
   "source": [
    "data_with_columns['fiscalDocumentFormatVer'].fillna(data_with_columns['protocolVersion'].replace({1:11, 2:22}), inplace=True)\n",
    "data_with_columns['prepaidSum'].fillna(data_with_columns['prepaymentSum'], inplace=True)\n",
    "data_with_columns['creditSum'].fillna(data_with_columns['postpaymentSum'], inplace=True)\n",
    "data_with_columns['provisionSum'].fillna(data_with_columns['counterSubmissionSum'], inplace=True)"
   ]
  },
  {
   "cell_type": "code",
   "execution_count": 53,
   "metadata": {},
   "outputs": [],
   "source": [
    "data_with_columns.drop(['protocolVersion', 'prepaymentSum', 'postpaymentSum', 'counterSubmissionSum'], axis=1, inplace=True)"
   ]
  },
  {
   "cell_type": "code",
   "execution_count": 103,
   "metadata": {},
   "outputs": [],
   "source": [
    "data_with_columns['paymentAgentType'] = pd.Categorical(data_with_columns['paymentAgentType']).codes\n",
    "data_with_columns['fiscalDocumentFormatVer'] = pd.Categorical(data_with_columns['fiscalDocumentFormatVer']).codes\n",
    "data_with_columns['internetSign'] = pd.Categorical(data_with_columns['internetSign']).codes"
   ]
  },
  {
   "cell_type": "code",
   "execution_count": 98,
   "metadata": {},
   "outputs": [],
   "source": [
    "data_with_columns.fillna(dict(zip(['creditSum', 'nds0', 'nds10', 'nds10110', 'nds18', 'nds18118', 'nds20', 'ndsCalculated10', \n",
    "                   'ndsCalculated18', 'ndsCalculated20', 'ndsNo', 'prepaidSum', 'provisionSum'], [0]*13)), inplace=True)"
   ]
  },
  {
   "cell_type": "code",
   "execution_count": 104,
   "metadata": {},
   "outputs": [
    {
     "data": {
      "text/plain": [
       "<Axes: >"
      ]
     },
     "execution_count": 104,
     "metadata": {},
     "output_type": "execute_result"
    },
    {
     "data": {
      "image/png": "[encoded data removed]",
      "text/plain": [
       "<Figure size 2000x1000 with 1 Axes>"
      ]
     },
     "metadata": {},
     "output_type": "display_data"
    }
   ],
   "source": [
    "plt.figure(figsize=(20, 10))\n",
    "sns.heatmap(data_with_columns.isnull(), yticklabels=False, cbar=False)"
   ]
  },
  {
   "cell_type": "code",
   "execution_count": 105,
   "metadata": {},
   "outputs": [
    {
     "name": "stdout",
     "output_type": "stream",
     "text": [
      "<class 'pandas.core.frame.DataFrame'>\n",
      "RangeIndex: 100001 entries, 0 to 100000\n",
      "Data columns (total 26 columns):\n",
      " #   Column                   Non-Null Count   Dtype  \n",
      "---  ------                   --------------   -----  \n",
      " 0   cashTotalSum             100001 non-null  object \n",
      " 1   creditSum                100001 non-null  float64\n",
      " 2   ecashTotalSum            100001 non-null  object \n",
      " 3   fd_id_external           100000 non-null  object \n",
      " 4   fiscalDocumentFormatVer  100001 non-null  int8   \n",
      " 5   internetSign             100001 non-null  int8   \n",
      " 6   kkt_id_external          100000 non-null  object \n",
      " 7   nds0                     100001 non-null  int64  \n",
      " 8   nds10                    100001 non-null  int64  \n",
      " 9   nds10110                 100001 non-null  int64  \n",
      " 10  nds18                    100001 non-null  int64  \n",
      " 11  nds18118                 100001 non-null  int64  \n",
      " 12  nds20                    100001 non-null  int64  \n",
      " 13  ndsCalculated10          100001 non-null  int64  \n",
      " 14  ndsCalculated18          100001 non-null  int64  \n",
      " 15  ndsCalculated20          100001 non-null  int64  \n",
      " 16  ndsNo                    100001 non-null  int64  \n",
      " 17  operationType            100000 non-null  object \n",
      " 18  paymentAgentType         100001 non-null  int8   \n",
      " 19  prepaidSum               100001 non-null  float64\n",
      " 20  provisionSum             100001 non-null  float64\n",
      " 21  receiptCode              100000 non-null  float64\n",
      " 22  requestNumber            100000 non-null  object \n",
      " 23  retailAddress            6149 non-null    object \n",
      " 24  taxationType             100000 non-null  object \n",
      " 25  totalSum                 99990 non-null   object \n",
      "dtypes: float64(4), int64(10), int8(3), object(9)\n",
      "memory usage: 17.8+ MB\n"
     ]
    }
   ],
   "source": [
    "data_with_columns.info()"
   ]
  },
  {
   "cell_type": "code",
   "execution_count": 16,
   "metadata": {},
   "outputs": [],
   "source": [
    "# data_with_columns.to_csv('parsed_data_fiscal_mln.csv', sep=';', encoding='utf-8', index=False)"
   ]
  },
  {
   "cell_type": "code",
   "execution_count": 17,
   "metadata": {},
   "outputs": [
    {
     "name": "stderr",
     "output_type": "stream",
     "text": [
      "C:\\Users\\Максим\\AppData\\Local\\Temp\\ipykernel_21176\\2311695220.py:16: SettingWithCopyWarning: \n",
      "A value is trying to be set on a copy of a slice from a DataFrame.\n",
      "Try using .loc[row_indexer,col_indexer] = value instead\n",
      "\n",
      "See the caveats in the documentation: https://pandas.pydata.org/pandas-docs/stable/user_guide/indexing.html#returning-a-view-versus-a-copy\n",
      "  for_map['retailAddress'] = for_map['retailAddress'].apply(lambda x: find_six_digit_substring(x))\n",
      "C:\\Users\\Максим\\AppData\\Local\\Temp\\ipykernel_21176\\2311695220.py:17: SettingWithCopyWarning: \n",
      "A value is trying to be set on a copy of a slice from a DataFrame\n",
      "\n",
      "See the caveats in the documentation: https://pandas.pydata.org/pandas-docs/stable/user_guide/indexing.html#returning-a-view-versus-a-copy\n",
      "  for_map.dropna(inplace=True)\n"
     ]
    },
    {
     "data": {
      "text/html": [
       "<div>\n",
       "<style scoped>\n",
       "    .dataframe tbody tr th:only-of-type {\n",
       "        vertical-align: middle;\n",
       "    }\n",
       "\n",
       "    .dataframe tbody tr th {\n",
       "        vertical-align: top;\n",
       "    }\n",
       "\n",
       "    .dataframe thead th {\n",
       "        text-align: right;\n",
       "    }\n",
       "</style>\n",
       "<table border=\"1\" class=\"dataframe\">\n",
       "  <thead>\n",
       "    <tr style=\"text-align: right;\">\n",
       "      <th></th>\n",
       "      <th>operationType</th>\n",
       "    </tr>\n",
       "    <tr>\n",
       "      <th>retailAddress</th>\n",
       "      <th></th>\n",
       "    </tr>\n",
       "  </thead>\n",
       "  <tbody>\n",
       "    <tr>\n",
       "      <th>681000</th>\n",
       "      <td>564</td>\n",
       "    </tr>\n",
       "    <tr>\n",
       "      <th>190000</th>\n",
       "      <td>490</td>\n",
       "    </tr>\n",
       "    <tr>\n",
       "      <th>681014</th>\n",
       "      <td>386</td>\n",
       "    </tr>\n",
       "    <tr>\n",
       "      <th>143900</th>\n",
       "      <td>344</td>\n",
       "    </tr>\n",
       "    <tr>\n",
       "      <th>634045</th>\n",
       "      <td>310</td>\n",
       "    </tr>\n",
       "    <tr>\n",
       "      <th>...</th>\n",
       "      <td>...</td>\n",
       "    </tr>\n",
       "    <tr>\n",
       "      <th>350061</th>\n",
       "      <td>1</td>\n",
       "    </tr>\n",
       "    <tr>\n",
       "      <th>347949</th>\n",
       "      <td>1</td>\n",
       "    </tr>\n",
       "    <tr>\n",
       "      <th>346130</th>\n",
       "      <td>1</td>\n",
       "    </tr>\n",
       "    <tr>\n",
       "      <th>309000</th>\n",
       "      <td>1</td>\n",
       "    </tr>\n",
       "    <tr>\n",
       "      <th>105062</th>\n",
       "      <td>1</td>\n",
       "    </tr>\n",
       "  </tbody>\n",
       "</table>\n",
       "<p>1885 rows × 1 columns</p>\n",
       "</div>"
      ],
      "text/plain": [
       "               operationType\n",
       "retailAddress               \n",
       "681000                   564\n",
       "190000                   490\n",
       "681014                   386\n",
       "143900                   344\n",
       "634045                   310\n",
       "...                      ...\n",
       "350061                     1\n",
       "347949                     1\n",
       "346130                     1\n",
       "309000                     1\n",
       "105062                     1\n",
       "\n",
       "[1885 rows x 1 columns]"
      ]
     },
     "execution_count": 17,
     "metadata": {},
     "output_type": "execute_result"
    }
   ],
   "source": [
    "import re\n",
    "import numpy as np\n",
    "def find_six_digit_substring(input_string):\n",
    "    # Используем регулярное выражение для поиска подстроки из 6 цифр\n",
    "    # print(input_string, type(input_string))\n",
    "    if isinstance(input_string, str):\n",
    "        match = re.search(r'\\b\\d{6}\\b', input_string)\n",
    "        \n",
    "        if match:\n",
    "            return match.group(0)\n",
    "        else:\n",
    "            return None\n",
    "    else: np.nan\n",
    "\n",
    "for_map = data_with_columns[[\"retailAddress\", 'operationType']]\n",
    "for_map['retailAddress'] = for_map['retailAddress'].apply(lambda x: find_six_digit_substring(x))\n",
    "for_map.dropna(inplace=True)\n",
    "for_map = for_map.groupby('retailAddress').count().sort_values('operationType', ascending=False)\n",
    "for_map"
   ]
  },
  {
   "cell_type": "code",
   "execution_count": 18,
   "metadata": {},
   "outputs": [
    {
     "data": {
      "text/html": [
       "<div>\n",
       "<style scoped>\n",
       "    .dataframe tbody tr th:only-of-type {\n",
       "        vertical-align: middle;\n",
       "    }\n",
       "\n",
       "    .dataframe tbody tr th {\n",
       "        vertical-align: top;\n",
       "    }\n",
       "\n",
       "    .dataframe thead th {\n",
       "        text-align: right;\n",
       "    }\n",
       "</style>\n",
       "<table border=\"1\" class=\"dataframe\">\n",
       "  <thead>\n",
       "    <tr style=\"text-align: right;\">\n",
       "      <th></th>\n",
       "      <th>retailAddress</th>\n",
       "      <th>operationType</th>\n",
       "    </tr>\n",
       "  </thead>\n",
       "  <tbody>\n",
       "    <tr>\n",
       "      <th>0</th>\n",
       "      <td>681000</td>\n",
       "      <td>564</td>\n",
       "    </tr>\n",
       "    <tr>\n",
       "      <th>1</th>\n",
       "      <td>190000</td>\n",
       "      <td>490</td>\n",
       "    </tr>\n",
       "    <tr>\n",
       "      <th>2</th>\n",
       "      <td>681014</td>\n",
       "      <td>386</td>\n",
       "    </tr>\n",
       "    <tr>\n",
       "      <th>3</th>\n",
       "      <td>143900</td>\n",
       "      <td>344</td>\n",
       "    </tr>\n",
       "    <tr>\n",
       "      <th>4</th>\n",
       "      <td>634045</td>\n",
       "      <td>310</td>\n",
       "    </tr>\n",
       "    <tr>\n",
       "      <th>...</th>\n",
       "      <td>...</td>\n",
       "      <td>...</td>\n",
       "    </tr>\n",
       "    <tr>\n",
       "      <th>1880</th>\n",
       "      <td>350061</td>\n",
       "      <td>1</td>\n",
       "    </tr>\n",
       "    <tr>\n",
       "      <th>1881</th>\n",
       "      <td>347949</td>\n",
       "      <td>1</td>\n",
       "    </tr>\n",
       "    <tr>\n",
       "      <th>1882</th>\n",
       "      <td>346130</td>\n",
       "      <td>1</td>\n",
       "    </tr>\n",
       "    <tr>\n",
       "      <th>1883</th>\n",
       "      <td>309000</td>\n",
       "      <td>1</td>\n",
       "    </tr>\n",
       "    <tr>\n",
       "      <th>1884</th>\n",
       "      <td>105062</td>\n",
       "      <td>1</td>\n",
       "    </tr>\n",
       "  </tbody>\n",
       "</table>\n",
       "<p>1885 rows × 2 columns</p>\n",
       "</div>"
      ],
      "text/plain": [
       "     retailAddress  operationType\n",
       "0           681000            564\n",
       "1           190000            490\n",
       "2           681014            386\n",
       "3           143900            344\n",
       "4           634045            310\n",
       "...            ...            ...\n",
       "1880        350061              1\n",
       "1881        347949              1\n",
       "1882        346130              1\n",
       "1883        309000              1\n",
       "1884        105062              1\n",
       "\n",
       "[1885 rows x 2 columns]"
      ]
     },
     "execution_count": 18,
     "metadata": {},
     "output_type": "execute_result"
    }
   ],
   "source": [
    "for_map = for_map.reset_index()\n",
    "for_map# = for_map[for_map['dateTime'] > 1]"
   ]
  },
  {
   "cell_type": "code",
   "execution_count": 19,
   "metadata": {},
   "outputs": [],
   "source": [
    "import pandas as pd\n",
    "from geopy.geocoders import Nominatim\n",
    "import folium\n",
    "from folium.plugins import HeatMap\n",
    "import matplotlib.pyplot as plt\n",
    "\n",
    "# # Пример данных с адресами\n",
    "# data = {\n",
    "#     'Address': ['Москва, Россия', 'Санкт-Петербург, Россия', 'Новосибирск, Россия'],\n",
    "#     'Value': [10, 20, 30]  # Значения для тепловой карты\n",
    "# }\n",
    "\n",
    "# for_map = pd.DataFrame(data)\n",
    "\n",
    "# Используем geopy для преобразования адресов в географические координаты\n",
    "geolocator = Nominatim(user_agent=\"heatmap_app\")\n",
    "for_map['Coordinates'] = for_map['retailAddress'].apply(geolocator.geocode).apply(lambda x: (x.latitude, x.longitude) if x is not None else None)\n",
    "\n",
    "# # Создаем базовую карту с помощью folium\n",
    "# for_map.dropna(inplace=True)\n",
    "# map_heat = folium.Map(location=[55.7558, 37.6176], zoom_start=5)\n",
    "\n",
    "# # Добавляем тепловую карту с координатами из DataFrame\n",
    "# heat_data = [[row['Coordinates'][0], row['Coordinates'][1], row['dateTime']] for index, row in for_map.iterrows()]\n",
    "# HeatMap(heat_data).add_to(map_heat)\n",
    "\n",
    "# # Сохраняем карту в HTML-файл\n",
    "# map_heat.save(\"heatmap1.html\")\n",
    "\n",
    "# from IPython.display import IFrame\n",
    "\n",
    "# # Отображаем тепловую карту в Jupyter Notebook\n",
    "# IFrame(src='heatmap.html', width=700, height=600)\n"
   ]
  },
  {
   "cell_type": "code",
   "execution_count": 20,
   "metadata": {},
   "outputs": [
    {
     "data": {
      "text/html": [
       "\n",
       "        <iframe\n",
       "            width=\"700\"\n",
       "            height=\"600\"\n",
       "            src=\"heatmap1.html\"\n",
       "            frameborder=\"0\"\n",
       "            allowfullscreen\n",
       "            \n",
       "        ></iframe>\n",
       "        "
      ],
      "text/plain": [
       "<IPython.lib.display.IFrame at 0x133f7bc2890>"
      ]
     },
     "execution_count": 20,
     "metadata": {},
     "output_type": "execute_result"
    }
   ],
   "source": [
    "for_map.dropna(inplace=True)\n",
    "map_heat = folium.Map(location=[55.7558, 37.6176], zoom_start=5)\n",
    "\n",
    "# Добавляем тепловую карту с координатами из DataFrame\n",
    "heat_data = [[row['Coordinates'][0], row['Coordinates'][1], row['operationType']] for index, row in for_map.iterrows()]\n",
    "HeatMap(heat_data).add_to(map_heat)\n",
    "\n",
    "# Сохраняем карту в HTML-файл\n",
    "map_heat.save(\"heatmap1.html\")\n",
    "\n",
    "from IPython.display import IFrame\n",
    "\n",
    "# Отображаем тепловую карту в Jupyter Notebook\n",
    "IFrame(src='heatmap1.html', width=700, height=600)"
   ]
  },
  {
   "cell_type": "code",
   "execution_count": null,
   "metadata": {},
   "outputs": [],
   "source": [
    "for_map[for_map['Coordinates'].isna()]"
   ]
  },
  {
   "cell_type": "code",
   "execution_count": null,
   "metadata": {},
   "outputs": [],
   "source": [
    "for_map.loc[0, 'retailAddress']"
   ]
  },
  {
   "cell_type": "code",
   "execution_count": null,
   "metadata": {},
   "outputs": [],
   "source": [
    "from geopy.geocoders import Nominatim\n",
    "\n",
    "# Создаем объект геокодера\n",
    "geolocator = Nominatim(user_agent=\"geoapiExercises\")\n",
    "\n",
    "# Адрес для преобразования\n",
    "address = '124498'\n",
    "\n",
    "# Получаем координаты\n",
    "location = geolocator.geocode(address)\n",
    "\n",
    "# Выводим координаты\n",
    "if location:\n",
    "    print((location.latitude, location.longitude))\n",
    "else:\n",
    "    print(\"Адрес не найден\")"
   ]
  },
  {
   "cell_type": "code",
   "execution_count": null,
   "metadata": {},
   "outputs": [],
   "source": [
    "55.994445, 37.207533"
   ]
  },
  {
   "cell_type": "code",
   "execution_count": null,
   "metadata": {},
   "outputs": [],
   "source": [
    "import json\n",
    "\n",
    "# assigns a JSON string to a variable called jess \n",
    "jess = '{\"fd_id_external\": \"e35d7164ee96e9aaf68b73c96fcb5bdc\",\"json_external\":{\"receiptCode\":3,\"fiscalDocumentNumber\":11278,\"dateTime\":\"2020-10-11\",\"shiftNumber\":35,\"requestNumber\":48,\"operationType\":1,\"totalSum\":9215,\"items\":[{\"name\":\"Продажа на сумму\",\"price\":9215,\"quantity\":1,\"sum\":9215}],\"cashTotalSum\":9215,\"ecashTotalSum\":0,\"ndsNo\":9215,\"retailAddress\":\"652888, Кемеровская область, г. Междуреченск, ул. Октябрьская, д. 3А\",\"taxationType\":8},\"kkt_id_external\":\"137f0b74c99ad372af7022794574d8e4\"}'\n",
    "\n",
    "# parses the data and assigns it to a variable called jess_dict\n",
    "jess_dict = json.loads(jess)\n",
    "\n",
    "print(json.dumps(jess_dict, indent=2))       "
   ]
  },
  {
   "cell_type": "code",
   "execution_count": null,
   "metadata": {},
   "outputs": [],
   "source": []
  },
  {
   "cell_type": "code",
   "execution_count": null,
   "metadata": {},
   "outputs": [],
   "source": []
  }
 ],
 "metadata": {
  "kernelspec": {
   "display_name": "Python 3 (ipykernel)",
   "language": "python",
   "name": "python3"
  },
  "language_info": {
   "codemirror_mode": {
    "name": "ipython",
    "version": 3
   },
   "file_extension": ".py",
   "mimetype": "text/x-python",
   "name": "python",
   "nbconvert_exporter": "python",
   "pygments_lexer": "ipython3",
   "version": "3.10.5"
  }
 },
 "nbformat": 4,
 "nbformat_minor": 2
}
